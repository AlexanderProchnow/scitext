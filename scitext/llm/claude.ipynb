{
 "cells": [
  {
   "cell_type": "markdown",
   "metadata": {},
   "source": [
    "# Experiment with Claude 3.5 Sonnet PDF Beta\n",
    "\n",
    "The PDF Beta is able to read text as well as understand figures and tables. API costs range between 5 and 40 cent per paper."
   ]
  },
  {
   "cell_type": "code",
   "execution_count": 1,
   "metadata": {},
   "outputs": [
    {
     "data": {
      "text/plain": [
       "'Here are the key entity-relation-entity triples from the scientific document:\\n\\nCRISPR-Cas9-system - ENABLES - genome_editing\\nCRISPR-Cas9 - CONTAINS - Cas9_protein\\nCRISPR-Cas9 - CONTAINS - guide_RNA\\nCas9_protein - RECOGNIZES - PAM_sequence\\nCas9_protein - CLEAVES - target_DNA\\nguide_RNA - GUIDES - Cas9_protein\\nguide_RNA - BINDS - target_DNA\\nPAM_sequence - REQUIRED_FOR - DNA_targeting\\nCas9_protein - HAS_DOMAIN - HNH_nuclease\\nCas9_protein - HAS_DOMAIN - RuvC_nuclease \\nHNH_nuclease - CLEAVES - DNA_strand\\nRuvC_nuclease - CLEAVES - DNA_strand\\nCRISPR-Cas9 - ENABLES - gene_modification\\nCRISPR-Cas9 - USED_IN - biotechnology\\nCRISPR-Cas9 - USED_IN - disease_treatment\\nDNA_repair - INVOLVES - NHEJ_pathway\\nDNA_repair - INVOLVES - HDR_pathway\\nCRISPR-Cas9 - REQUIRES - PAM_sequence\\ntracrRNA - ACTIVATES - crRNA_processing\\ntracrRNA - ENABLES - DNA_cleavage'"
      ]
     },
     "execution_count": 1,
     "metadata": {},
     "output_type": "execute_result"
    }
   ],
   "source": [
    "from claude import extract_from_web, extract_from_file\n",
    "\n",
    "triples = extract_from_web('https://www.nobelprize.org/uploads/2020/10/advanced-chemistryprize2020.pdf')\n",
    "triples"
   ]
  },
  {
   "cell_type": "code",
   "execution_count": null,
   "metadata": {},
   "outputs": [],
   "source": [
    "# store triples\n",
    "with open('output.txt', 'w') as f:\n",
    "    f.write(triples)"
   ]
  }
 ],
 "metadata": {
  "kernelspec": {
   "display_name": ".venv",
   "language": "python",
   "name": "python3"
  },
  "language_info": {
   "codemirror_mode": {
    "name": "ipython",
    "version": 3
   },
   "file_extension": ".py",
   "mimetype": "text/x-python",
   "name": "python",
   "nbconvert_exporter": "python",
   "pygments_lexer": "ipython3",
   "version": "3.13.1"
  }
 },
 "nbformat": 4,
 "nbformat_minor": 2
}
