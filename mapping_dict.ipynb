{
 "cells": [
  {
   "attachments": {},
   "cell_type": "markdown",
   "metadata": {},
   "source": [
    "# Create a mapping dictionary for REBEL extracted relations\n",
    "\n"
   ]
  },
  {
   "cell_type": "code",
   "execution_count": 1,
   "metadata": {},
   "outputs": [],
   "source": [
    "import pandas as pd\n",
    "from tqdm import tqdm"
   ]
  },
  {
   "cell_type": "code",
   "execution_count": 3,
   "metadata": {},
   "outputs": [],
   "source": [
    "df = pd.read_json('data/rebel_dataset/en_train.jsonl', lines=True, chunksize=150_000)"
   ]
  },
  {
   "cell_type": "code",
   "execution_count": 4,
   "metadata": {},
   "outputs": [
    {
     "name": "stderr",
     "output_type": "stream",
     "text": [
      "100%|██████████| 150000/150000 [00:00<00:00, 599631.15it/s]\n",
      "100%|██████████| 150000/150000 [00:00<00:00, 547078.85it/s]\n",
      "100%|██████████| 150000/150000 [00:00<00:00, 417732.46it/s]\n",
      "100%|██████████| 150000/150000 [00:00<00:00, 394153.35it/s]\n",
      "100%|██████████| 150000/150000 [00:00<00:00, 389242.32it/s]\n",
      "100%|██████████| 150000/150000 [00:00<00:00, 387044.10it/s]\n",
      "100%|██████████| 150000/150000 [00:00<00:00, 376491.31it/s]\n",
      "100%|██████████| 150000/150000 [00:00<00:00, 395383.44it/s]\n",
      "100%|██████████| 150000/150000 [00:00<00:00, 352638.35it/s]\n",
      "100%|██████████| 150000/150000 [00:00<00:00, 355713.97it/s]\n",
      "100%|██████████| 150000/150000 [00:00<00:00, 403894.72it/s]\n",
      "100%|██████████| 150000/150000 [00:00<00:00, 366362.11it/s]\n",
      "100%|██████████| 150000/150000 [00:00<00:00, 375787.67it/s]\n",
      "100%|██████████| 150000/150000 [00:00<00:00, 369592.57it/s]\n",
      "100%|██████████| 150000/150000 [00:00<00:00, 356722.41it/s]\n",
      "100%|██████████| 150000/150000 [00:00<00:00, 348744.92it/s]\n",
      "100%|██████████| 150000/150000 [00:00<00:00, 369711.59it/s]\n",
      "100%|██████████| 150000/150000 [00:00<00:00, 347533.77it/s]\n",
      "100%|██████████| 54388/54388 [00:00<00:00, 339897.47it/s]\n",
      "100%|██████████| 19/19 [05:43<00:00, 18.10s/it]\n"
     ]
    }
   ],
   "source": [
    "predicate_vocab = []\n",
    "uri_vocab = []\n",
    "\n",
    "for chunk in tqdm(df,  total=19):\n",
    "    for instance in chunk['triples']:\n",
    "        for triple in instance:\n",
    "            predicate_vocab.append(triple['predicate']['surfaceform'])\n",
    "            uri_vocab.append(triple['predicate']['uri'])"
   ]
  },
  {
   "cell_type": "code",
   "execution_count": 5,
   "metadata": {},
   "outputs": [],
   "source": [
    "vocab_df = pd.DataFrame({'predicate': predicate_vocab, 'uri': uri_vocab})"
   ]
  },
  {
   "cell_type": "code",
   "execution_count": 18,
   "metadata": {},
   "outputs": [],
   "source": [
    "vocab_df_unique = vocab_df.drop_duplicates(subset=['uri'])"
   ]
  },
  {
   "cell_type": "code",
   "execution_count": 19,
   "metadata": {},
   "outputs": [
    {
     "data": {
      "text/plain": [
       "1146"
      ]
     },
     "execution_count": 19,
     "metadata": {},
     "output_type": "execute_result"
    }
   ],
   "source": [
    "len(vocab_df_unique)"
   ]
  },
  {
   "cell_type": "code",
   "execution_count": 20,
   "metadata": {},
   "outputs": [],
   "source": [
    "vocab_df_unique.to_csv('data/rebel_dataset/rebel_vocab.csv', index=False)"
   ]
  }
 ],
 "metadata": {
  "kernelspec": {
   "display_name": "kg-env",
   "language": "python",
   "name": "python3"
  },
  "language_info": {
   "codemirror_mode": {
    "name": "ipython",
    "version": 3
   },
   "file_extension": ".py",
   "mimetype": "text/x-python",
   "name": "python",
   "nbconvert_exporter": "python",
   "pygments_lexer": "ipython3",
   "version": "3.10.9"
  },
  "orig_nbformat": 4,
  "vscode": {
   "interpreter": {
    "hash": "276c1d8a35f98667dd2f32f6c8e187751b050b34bbb8a6a529624bb4da0a2044"
   }
  }
 },
 "nbformat": 4,
 "nbformat_minor": 2
}
